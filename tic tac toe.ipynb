{
 "cells": [
  {
   "cell_type": "code",
   "execution_count": 1,
   "metadata": {},
   "outputs": [],
   "source": [
    "lst=[1,2,3]\n",
    "\n"
   ]
  },
  {
   "cell_type": "code",
   "execution_count": 2,
   "metadata": {},
   "outputs": [],
   "source": [
    "from IPython.display import clear_output\n",
    "def display(game):\n",
    "    print('Here  the current list')\n",
    "    print(lst)"
   ]
  },
  {
   "cell_type": "code",
   "execution_count": 3,
   "metadata": {},
   "outputs": [
    {
     "name": "stdout",
     "output_type": "stream",
     "text": [
      "Here  the current list\n",
      "[1, 2, 3]\n"
     ]
    }
   ],
   "source": [
    "display(lst)\n",
    "    "
   ]
  },
  {
   "cell_type": "code",
   "execution_count": 4,
   "metadata": {},
   "outputs": [],
   "source": [
    "def player_choice():\n",
    "    c='wrong'\n",
    "    while c not in['0','1','2']:\n",
    "        c=input('enter the position 0,1,2' )\n",
    "        if c not in ['0','1','2']:\n",
    "            print('error choose again(0,1,2)')\n",
    "        \n",
    "    return int(c)\n",
    "        "
   ]
  },
  {
   "cell_type": "code",
   "execution_count": 5,
   "metadata": {},
   "outputs": [],
   "source": [
    "def change(game,position):\n",
    "    a=input('enter the number you want to enter')\n",
    "    game[position]=a\n",
    "    return game     "
   ]
  },
  {
   "cell_type": "code",
   "execution_count": 6,
   "metadata": {},
   "outputs": [
    {
     "name": "stdout",
     "output_type": "stream",
     "text": [
      "enter the number you want to enter2\n"
     ]
    },
    {
     "data": {
      "text/plain": [
       "['2', 2, 3]"
      ]
     },
     "execution_count": 6,
     "metadata": {},
     "output_type": "execute_result"
    }
   ],
   "source": [
    "change(lst,0)"
   ]
  },
  {
   "cell_type": "code",
   "execution_count": 7,
   "metadata": {},
   "outputs": [],
   "source": [
    "def play_again():\n",
    "    a='noo'\n",
    "    while a  not in ['yes','no']:\n",
    "        a=input('wanna play again (yes/no)').lower()\n",
    "        if a not in ['yes','no']:\n",
    "            print(\"type again yes or no\")\n",
    "    if a=='yes':\n",
    "        return True\n",
    "    else:\n",
    "        return False\n",
    "                \n",
    "            "
   ]
  },
  {
   "cell_type": "code",
   "execution_count": 8,
   "metadata": {},
   "outputs": [
    {
     "name": "stdout",
     "output_type": "stream",
     "text": [
      "wanna play again (yes/no)yes\n"
     ]
    },
    {
     "data": {
      "text/plain": [
       "True"
      ]
     },
     "execution_count": 8,
     "metadata": {},
     "output_type": "execute_result"
    }
   ],
   "source": [
    "play_again()"
   ]
  },
  {
   "cell_type": "code",
   "execution_count": 9,
   "metadata": {},
   "outputs": [
    {
     "name": "stdout",
     "output_type": "stream",
     "text": [
      "Here  the current list\n",
      "[0, 1, 2]\n",
      "enter the position 0,1,22\n",
      "enter the number you want to enter6\n",
      "Here  the current list\n",
      "[0, 1, '6']\n",
      "wanna play again (yes/no)no\n"
     ]
    }
   ],
   "source": [
    "\n",
    "game_on=True\n",
    "lst=[0,1,2]\n",
    "\n",
    "while game_on:\n",
    "    display(lst)\n",
    "    \n",
    "    position=player_choice()\n",
    "    lst=change(lst,position)\n",
    "    display(lst)\n",
    "    game_on=play_again()"
   ]
  },
  {
   "cell_type": "code",
   "execution_count": 10,
   "metadata": {},
   "outputs": [
    {
     "name": "stdout",
     "output_type": "stream",
     "text": [
      "enter the position 0,1,22\n"
     ]
    },
    {
     "data": {
      "text/plain": [
       "2"
      ]
     },
     "execution_count": 10,
     "metadata": {},
     "output_type": "execute_result"
    }
   ],
   "source": [
    "player_choice()"
   ]
  },
  {
   "cell_type": "code",
   "execution_count": 11,
   "metadata": {},
   "outputs": [],
   "source": [
    "def player_board(board):\n",
    "    print('  |  |')\n",
    "    print(''+board[1]+' |'+board[2]+' |'+board[3])\n",
    "    print('---------')\n",
    "    print('  |  |')\n",
    "    print(''+board[4]+' |'+board[5]+' |'+board[6])\n",
    "    print('---------')\n",
    "    print('  |  |')\n",
    "    print(''+board[7]+' |'+board[8]+' |'+board[9])\n",
    "    "
   ]
  },
  {
   "cell_type": "code",
   "execution_count": 12,
   "metadata": {},
   "outputs": [
    {
     "name": "stdout",
     "output_type": "stream",
     "text": [
      "  |  |\n",
      "X |O |X\n",
      "---------\n",
      "  |  |\n",
      "O |X |O\n",
      "---------\n",
      "  |  |\n",
      "X |O |X\n"
     ]
    }
   ],
   "source": [
    "test_board = ['#','X','O','X','O','X','O','X','O','X']\n",
    "player_board(test_board)"
   ]
  },
  {
   "cell_type": "code",
   "execution_count": 13,
   "metadata": {},
   "outputs": [],
   "source": [
    "def player_input():\n",
    "    a='wrong'\n",
    "    while a not in['X',\"Y\"]:\n",
    "        a=input('Player1 choose your marker x or y').upper()\n",
    "        if a not in ['X','Y']:\n",
    "            print('\\n wrong selection choose x or y')\n",
    "        else:\n",
    "            if a=='X':\n",
    "                return ('X','Y')\n",
    "            else:\n",
    "                return('Y','X')"
   ]
  },
  {
   "cell_type": "code",
   "execution_count": 14,
   "metadata": {},
   "outputs": [
    {
     "name": "stdout",
     "output_type": "stream",
     "text": [
      "Player1 choose your marker x or yx\n"
     ]
    }
   ],
   "source": [
    "player1_marker,player2_marker=player_input()"
   ]
  },
  {
   "cell_type": "code",
   "execution_count": 15,
   "metadata": {},
   "outputs": [],
   "source": [
    "def place_marker(board,marker,position):\n",
    "    board[position]=marker"
   ]
  },
  {
   "cell_type": "code",
   "execution_count": 16,
   "metadata": {},
   "outputs": [
    {
     "name": "stdout",
     "output_type": "stream",
     "text": [
      "  |  |\n",
      "X |O |X\n",
      "---------\n",
      "  |  |\n",
      "O |X |O\n",
      "---------\n",
      "  |  |\n",
      "X |$ |X\n"
     ]
    }
   ],
   "source": [
    "place_marker(test_board,'$',8)\n",
    "player_board(test_board)"
   ]
  },
  {
   "cell_type": "code",
   "execution_count": 17,
   "metadata": {},
   "outputs": [],
   "source": [
    "def win_check(board,marker):\n",
    "    return((board[1]==board[2]==board[3]==marker) or\n",
    "    (board[4]==board[5]==board[6]==marker) or\n",
    "    (board[7]==board[8]==board[9]==marker )or\n",
    "    (board[1]==board[5]==board[9]==marker) or\n",
    "    (board[7]==board[4]==board[1]==marker) or\n",
    "    (board[8]==board[5]==board[2]==marker) or\n",
    "    (board[3]==board[6]==board[9]==marker) or\n",
    "    (board[7]==board[5]==board[3]==marker))"
   ]
  },
  {
   "cell_type": "code",
   "execution_count": 18,
   "metadata": {},
   "outputs": [
    {
     "data": {
      "text/plain": [
       "False"
      ]
     },
     "execution_count": 18,
     "metadata": {},
     "output_type": "execute_result"
    }
   ],
   "source": [
    "win_check(test_board,'x')"
   ]
  },
  {
   "cell_type": "code",
   "execution_count": 19,
   "metadata": {},
   "outputs": [],
   "source": [
    "import random\n",
    "def choose_first():\n",
    "    if random.randint(0,1)==0:\n",
    "        return 'player1'\n",
    "    else:\n",
    "        return 'player2'"
   ]
  },
  {
   "cell_type": "code",
   "execution_count": 20,
   "metadata": {},
   "outputs": [],
   "source": [
    "def space_check(board,position):\n",
    "    return (board[position]==' ')"
   ]
  },
  {
   "cell_type": "code",
   "execution_count": 21,
   "metadata": {},
   "outputs": [
    {
     "data": {
      "text/plain": [
       "False"
      ]
     },
     "execution_count": 21,
     "metadata": {},
     "output_type": "execute_result"
    }
   ],
   "source": [
    "space_check(test_board,2)"
   ]
  },
  {
   "cell_type": "code",
   "execution_count": 22,
   "metadata": {},
   "outputs": [],
   "source": [
    "def full_check(board):\n",
    "    for i in range(0,9):\n",
    "        if space_check(board,i):\n",
    "            return False\n",
    "        return True\n",
    "            \n",
    "        "
   ]
  },
  {
   "cell_type": "code",
   "execution_count": 23,
   "metadata": {},
   "outputs": [
    {
     "data": {
      "text/plain": [
       "True"
      ]
     },
     "execution_count": 23,
     "metadata": {},
     "output_type": "execute_result"
    }
   ],
   "source": [
    "full_check(test_board)"
   ]
  },
  {
   "cell_type": "code",
   "execution_count": 24,
   "metadata": {},
   "outputs": [],
   "source": [
    "def player_choice(board):\n",
    "    position=0\n",
    "    while position not in [1,2,3,4,5,6,7,8,9] or not  space_check(board,position):\n",
    "        position=int(input('Choose your position[1-9]'))\n",
    "    return position    "
   ]
  },
  {
   "cell_type": "code",
   "execution_count": 25,
   "metadata": {},
   "outputs": [],
   "source": [
    "def replay():\n",
    "    return(input('Do you want to play again ?  enter yes or no').lower().startswith('y'))\n"
   ]
  },
  {
   "cell_type": "code",
   "execution_count": null,
   "metadata": {},
   "outputs": [
    {
     "name": "stdout",
     "output_type": "stream",
     "text": [
      "Welcome to Tic Tac Toe\n",
      "Player1 choose your marker x or yx\n",
      "player1 will go first\n",
      " Are you ready to play (yes,no)yes\n",
      "  |  |\n",
      "  |  | \n",
      "---------\n",
      "  |  |\n",
      "  |  | \n",
      "---------\n",
      "  |  |\n",
      "  |  | \n",
      "Choose your position[1-9]2\n",
      "  |  |\n",
      "  |X | \n",
      "---------\n",
      "  |  |\n",
      "  |  | \n",
      "---------\n",
      "  |  |\n",
      "  |  | \n",
      "Choose your position[1-9]1\n",
      "  |  |\n",
      "Y |X | \n",
      "---------\n",
      "  |  |\n",
      "  |  | \n",
      "---------\n",
      "  |  |\n",
      "  |  | \n"
     ]
    }
   ],
   "source": [
    "#start the game\n",
    "from IPython.display import clear_output\n",
    "print('Welcome to Tic Tac Toe')\n",
    "while True:\n",
    "    board=[\" \"]*10\n",
    "    player1_marker,player2_marker=player_input()\n",
    "    turn=choose_first()\n",
    "    print(turn+' will go first')\n",
    "    \n",
    "    play_game=input(' Are you ready to play (yes,no)').lower()\n",
    "    if play_game=='yes':\n",
    "        game_on=True\n",
    "    else:\n",
    "        game_on=False\n",
    "        \n",
    "    while game_on ==True:\n",
    "        #player 1 turn\n",
    "        if turn=='player1':\n",
    "            \n",
    "            player_board(board)\n",
    "            position=player_choice(board)\n",
    "            place_marker(board,player1_marker,position)\n",
    "        \n",
    "            if win_check(board,player1_marker):\n",
    "                print(' Player1 you win congrats!!!')\n",
    "                game_on=False\n",
    "            elif full_check(board)==True:\n",
    "                print('Game\\'s a tie')\n",
    "                game_on=False\n",
    "            else:\n",
    "                turn='player2'\n",
    "        else:\n",
    "            #player2 turn\n",
    "            player_board(board)\n",
    "            position=player_choice(board)\n",
    "            place_marker(board,player2_marker,position)\n",
    "        \n",
    "            if win_check(board,player2_marker):\n",
    "                print('Player2 you win congrats!!!')\n",
    "                game_on=False\n",
    "            elif full_check(board)==True:\n",
    "                print('Game\\'s a tie')\n",
    "                game_on=False\n",
    "            else:\n",
    "                turn='player1'\n",
    "    if not replay() or game_on==False:\n",
    "        break\n",
    "   \n",
    "    \n",
    "\n",
    "        \n",
    "    \n",
    "    "
   ]
  }
 ],
 "metadata": {
  "kernelspec": {
   "display_name": "Python 3",
   "language": "python",
   "name": "python3"
  },
  "language_info": {
   "codemirror_mode": {
    "name": "ipython",
    "version": 3
   },
   "file_extension": ".py",
   "mimetype": "text/x-python",
   "name": "python",
   "nbconvert_exporter": "python",
   "pygments_lexer": "ipython3",
   "version": "3.7.6"
  }
 },
 "nbformat": 4,
 "nbformat_minor": 4
}
